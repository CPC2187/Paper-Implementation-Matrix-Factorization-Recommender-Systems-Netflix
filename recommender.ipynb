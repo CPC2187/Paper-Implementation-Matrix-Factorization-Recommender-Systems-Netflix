{
 "cells": [
  {
   "cell_type": "code",
   "execution_count": 159,
   "metadata": {},
   "outputs": [
    {
     "name": "stdout",
     "output_type": "stream",
     "text": [
      "Setup Complete\n",
      "\n"
     ]
    }
   ],
   "source": [
    "#Setting up prerequisites\n",
    "import pandas as pd\n",
    "import numpy as np\n",
    "import math\n",
    "import re\n",
    "from scipy.sparse import csr_matrix\n",
    "import matplotlib.pyplot as plt\n",
    "import seaborn as sns\n",
    "from surprise import Reader, Dataset, SVD, evaluate\n",
    "sns.set_style(\"darkgrid\")\n",
    "\n",
    "print(\"Setup Complete\\n\")"
   ]
  },
  {
   "cell_type": "code",
   "execution_count": 161,
   "metadata": {},
   "outputs": [
    {
     "name": "stdout",
     "output_type": "stream",
     "text": [
      "Dataset 1 shape: (1024, 3)\n",
      "-Dataset examples-\n",
      "      Cust_Id  Rating        Date\n",
      "0          1:     NaN         NaN\n",
      "100   2630337     5.0  20050310.0\n",
      "200    573434     4.0  20040526.0\n",
      "300    638824     5.0  20040519.0\n",
      "400   1653834     4.0  20040822.0\n",
      "500   1033930     3.0  20050811.0\n",
      "600    349407     5.0  20050102.0\n",
      "700    656399     4.0  20030920.0\n",
      "800   1456369     4.0  20030708.0\n",
      "900    253037     3.0  20050805.0\n",
      "1000  1369550     3.0  20041011.0\n",
      "float64\n"
     ]
    }
   ],
   "source": [
    "df1 = pd.read_csv('netflix-prize-data/toy_combined_data.txt', header = None, names = ['Cust_Id', 'Rating', 'Date'], usecols = [0,1,2])\n",
    "df1['Rating'] = df1['Rating'].astype(float)\n",
    "df1['Date'] = df1['Date'].astype(str)\n",
    "df1['Date'] = df1['Date'].map( lambda s : (s[:4])+(s[5:7])+(s[8:]))\n",
    "df1['Date'] = df1['Date'].astype(float)\n",
    "print('Dataset 1 shape: {}'.format(df1.shape))\n",
    "print('-Dataset examples-')\n",
    "print(df1.iloc[::100, :])\n",
    "print(df1['Date'].dtype)\n",
    "df = df1"
   ]
  },
  {
   "cell_type": "code",
   "execution_count": 162,
   "metadata": {},
   "outputs": [
    {
     "name": "stdout",
     "output_type": "stream",
     "text": [
      "See Overview of the Data\n"
     ]
    },
    {
     "data": {
      "image/png": "[encoded data removed]",
      "text/plain": [
       "<Figure size 1080x720 with 1 Axes>"
      ]
     },
     "metadata": {},
     "output_type": "display_data"
    }
   ],
   "source": [
    "#Seeing the distribution of ratings given by the users\n",
    "print(\"See Overview of the Data\")\n",
    "p = df.groupby('Rating')['Rating'].agg(['count'])\n",
    "# get movie count\n",
    "movie_count = df.isnull().sum()[1]\n",
    "# get customer count\n",
    "cust_count = df['Cust_Id'].nunique() - movie_count\n",
    "# get rating count\n",
    "rating_count = df['Cust_Id'].count() - movie_count\n",
    "ax = p.plot(kind = 'barh', legend = False, figsize = (15,10))\n",
    "plt.title('Total pool: {:,} Movies, {:,} customers, {:,} ratings given'.format(movie_count, cust_count, rating_count), fontsize=20)\n",
    "plt.axis('off')\n",
    "for i in range(1,6):\n",
    "    ax.text(p.iloc[i-1][0]/4, i-1, 'Rated {}: {:.0f}%'.format(i, p.iloc[i-1][0]*100 / p.sum()[0]), color = 'white', weight = 'bold')"
   ]
  },
  {
   "cell_type": "code",
   "execution_count": 165,
   "metadata": {},
   "outputs": [
    {
     "name": "stdout",
     "output_type": "stream",
     "text": [
      "Movie IDs extracted from the extra rows given\n"
     ]
    }
   ],
   "source": [
    "#Adding movie IDs to the dataset\n",
    "movie_np = []\n",
    "movie_id = 0\n",
    "for x in range(df.shape[0]):\n",
    "    if(np.isnan(df.iloc[x]['Rating'])):\n",
    "        movie_id = movie_id+1\n",
    "    movie_np = np.append(movie_np,movie_id)\n",
    "\n",
    "#print(movie_np)\n",
    "#print(len(movie_np))\n",
    "df['Movie_Id'] = movie_np.astype(int)\n",
    "print(\"Movie IDs extracted from the extra rows given\")"
   ]
  },
  {
   "cell_type": "code",
   "execution_count": 167,
   "metadata": {},
   "outputs": [
    {
     "name": "stdout",
     "output_type": "stream",
     "text": [
      "-Dataset examples-\n",
      "      Cust_Id  Rating        Date  Movie_Id\n",
      "1     1488844     3.0  20050906.0         1\n",
      "101   1155747     3.0  20050703.0         1\n",
      "201   1141189     4.0  20041215.0         1\n",
      "301   2256485     1.0  20040819.0         1\n",
      "401   2322840     3.0  20050712.0         1\n",
      "501     45117     5.0  20050815.0         1\n",
      "602   2596999     4.0  20051007.0         2\n",
      "703   1644750     3.0  20030319.0         3\n",
      "803    372528     3.0  20040630.0         3\n",
      "903   1115632     3.0  20031124.0         3\n",
      "1003  2085230     4.0  20040315.0         3\n",
      "\n",
      "\n",
      "These are the final datatypes of the dataset\n",
      "Cust_Id       int64\n",
      "Rating      float64\n",
      "Date        float64\n",
      "Movie_Id      int64\n",
      "dtype: object\n"
     ]
    }
   ],
   "source": [
    "# remove the extra Movie ID rows\n",
    "df = df[pd.notnull(df['Rating'])]\n",
    "df['Cust_Id'] = df['Cust_Id'].astype(int)\n",
    "print('-Dataset examples-')\n",
    "print(df.iloc[::100, :])\n",
    "\n",
    "\n",
    "print(\"\\n\\nThese are the final datatypes of the dataset\")\n",
    "print(df.dtypes)"
   ]
  },
  {
   "cell_type": "code",
   "execution_count": 168,
   "metadata": {},
   "outputs": [
    {
     "name": "stdout",
     "output_type": "stream",
     "text": [
      "(1009, 3)\n"
     ]
    }
   ],
   "source": [
    "#Creating Data Matrix\n",
    "df_matrix=pd.pivot_table(df,values='Rating',index='Cust_Id',columns='Movie_Id')\n",
    "print(df_matrix.shape)"
   ]
  },
  {
   "cell_type": "code",
   "execution_count": 157,
   "metadata": {},
   "outputs": [
    {
     "name": "stdout",
     "output_type": "stream",
     "text": [
      "See some Movie ID- Movie Title Mapping : \n",
      "\n",
      "            Year                          Name\n",
      "Movie_Id                                      \n",
      "1         2003.0               Dinosaur Planet\n",
      "2         2004.0    Isle of Man TT 2004 Review\n",
      "3         1997.0                     Character\n",
      "4         1994.0  Paula Abdul's Get Up & Dance\n",
      "5         2004.0      The Rise and Fall of ECW\n",
      "6         1997.0                          Sick\n",
      "7         1992.0                         8 Man\n",
      "8         2004.0    What the #$*! Do We Know!?\n"
     ]
    }
   ],
   "source": [
    "#Loading the Movie ID- Movie Title Mapping File\n",
    "\n",
    "df_title = pd.read_csv('netflix-prize-data/movie_titles.csv', encoding = \"ISO-8859-1\", header = None, names = ['Movie_Id', 'Year', 'Name'])\n",
    "df_title.set_index('Movie_Id', inplace = True)\n",
    "print(\"See some Movie ID- Movie Title Mapping : \\n\")\n",
    "print (df_title.head(8))"
   ]
  },
  {
   "cell_type": "code",
   "execution_count": 158,
   "metadata": {},
   "outputs": [
    {
     "name": "stdout",
     "output_type": "stream",
     "text": [
      "\n",
      "\n",
      "Data Cleaning Complete.\n",
      " See head of the Data Matrix:\n",
      "\n",
      "Movie_Id    1   2    3\n",
      "Cust_Id               \n",
      "915       5.0 NaN  NaN\n",
      "1333      NaN NaN  4.0\n",
      "2442      3.0 NaN  NaN\n",
      "3321      3.0 NaN  NaN\n",
      "4326      4.0 NaN  NaN\n"
     ]
    }
   ],
   "source": [
    "print(\"\\n\\nData Cleaning Complete.\\n See head of the Data Matrix:\\n\")\n",
    "print(df_matrix.head())"
   ]
  },
  {
   "cell_type": "code",
   "execution_count": null,
   "metadata": {},
   "outputs": [],
   "source": []
  }
 ],
 "metadata": {
  "kernelspec": {
   "display_name": "Python 3",
   "language": "python",
   "name": "python3"
  },
  "language_info": {
   "codemirror_mode": {
    "name": "ipython",
    "version": 3
   },
   "file_extension": ".py",
   "mimetype": "text/x-python",
   "name": "python",
   "nbconvert_exporter": "python",
   "pygments_lexer": "ipython3",
   "version": "3.6.7"
  }
 },
 "nbformat": 4,
 "nbformat_minor": 2
}
